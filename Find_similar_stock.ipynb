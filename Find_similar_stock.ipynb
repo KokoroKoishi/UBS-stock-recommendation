{
 "cells": [
  {
   "cell_type": "code",
   "execution_count": 1,
   "metadata": {},
   "outputs": [],
   "source": [
    "import pandas as pd\n",
    "import numpy as np\n",
    "from sklearn.preprocessing import MinMaxScaler\n",
    "import sklearn"
   ]
  },
  {
   "cell_type": "code",
   "execution_count": 2,
   "metadata": {
    "scrolled": true
   },
   "outputs": [],
   "source": [
    "df = pd.read_parquet('./K-means/new_changes_done.parquet')"
   ]
  },
  {
   "cell_type": "code",
   "execution_count": 3,
   "metadata": {
    "scrolled": true
   },
   "outputs": [
    {
     "data": {
      "text/html": [
       "<div>\n",
       "<style scoped>\n",
       "    .dataframe tbody tr th:only-of-type {\n",
       "        vertical-align: middle;\n",
       "    }\n",
       "\n",
       "    .dataframe tbody tr th {\n",
       "        vertical-align: top;\n",
       "    }\n",
       "\n",
       "    .dataframe thead th {\n",
       "        text-align: right;\n",
       "    }\n",
       "</style>\n",
       "<table border=\"1\" class=\"dataframe\">\n",
       "  <thead>\n",
       "    <tr style=\"text-align: right;\">\n",
       "      <th></th>\n",
       "      <th>roe</th>\n",
       "      <th>roa</th>\n",
       "      <th>oper_mgn</th>\n",
       "      <th>pay_out_ratio</th>\n",
       "      <th>pe</th>\n",
       "      <th>pbps</th>\n",
       "      <th>div_yld</th>\n",
       "      <th>last_holding</th>\n",
       "      <th>new_changes</th>\n",
       "      <th>is_holding</th>\n",
       "    </tr>\n",
       "    <tr>\n",
       "      <th>stock_id</th>\n",
       "      <th></th>\n",
       "      <th></th>\n",
       "      <th></th>\n",
       "      <th></th>\n",
       "      <th></th>\n",
       "      <th></th>\n",
       "      <th></th>\n",
       "      <th></th>\n",
       "      <th></th>\n",
       "      <th></th>\n",
       "    </tr>\n",
       "  </thead>\n",
       "  <tbody>\n",
       "    <tr>\n",
       "      <th>T1N9J9-S-RPMZQ3-R-04BBSH-E</th>\n",
       "      <td>0.736257</td>\n",
       "      <td>0.528786</td>\n",
       "      <td>0.895426</td>\n",
       "      <td>0.751899</td>\n",
       "      <td>0.270954</td>\n",
       "      <td>0.389738</td>\n",
       "      <td>0.697859</td>\n",
       "      <td>0.0</td>\n",
       "      <td>0.0</td>\n",
       "      <td>0</td>\n",
       "    </tr>\n",
       "    <tr>\n",
       "      <th>DTMZTR-S-NMTXM7-R-04BBSH-E</th>\n",
       "      <td>0.000000</td>\n",
       "      <td>0.086202</td>\n",
       "      <td>0.118942</td>\n",
       "      <td>0.307280</td>\n",
       "      <td>1.000000</td>\n",
       "      <td>1.000000</td>\n",
       "      <td>0.000000</td>\n",
       "      <td>0.0</td>\n",
       "      <td>0.0</td>\n",
       "      <td>0</td>\n",
       "    </tr>\n",
       "    <tr>\n",
       "      <th>R5VL9T-S-KJZM9C-R-04BBSH-E</th>\n",
       "      <td>0.181851</td>\n",
       "      <td>0.277281</td>\n",
       "      <td>0.251268</td>\n",
       "      <td>0.307280</td>\n",
       "      <td>1.000000</td>\n",
       "      <td>1.000000</td>\n",
       "      <td>0.222079</td>\n",
       "      <td>0.0</td>\n",
       "      <td>0.0</td>\n",
       "      <td>0</td>\n",
       "    </tr>\n",
       "    <tr>\n",
       "      <th>G18BJK-S-L2LQRT-R-04BBSH-E</th>\n",
       "      <td>0.994465</td>\n",
       "      <td>0.969054</td>\n",
       "      <td>0.910720</td>\n",
       "      <td>0.922097</td>\n",
       "      <td>0.157442</td>\n",
       "      <td>1.000000</td>\n",
       "      <td>0.974442</td>\n",
       "      <td>0.0</td>\n",
       "      <td>0.0</td>\n",
       "      <td>0</td>\n",
       "    </tr>\n",
       "    <tr>\n",
       "      <th>SVR7X0-S-F0M3M6-R-04BBSH-E</th>\n",
       "      <td>0.374042</td>\n",
       "      <td>0.383676</td>\n",
       "      <td>0.626002</td>\n",
       "      <td>0.307280</td>\n",
       "      <td>0.757425</td>\n",
       "      <td>0.779166</td>\n",
       "      <td>0.222079</td>\n",
       "      <td>0.0</td>\n",
       "      <td>0.0</td>\n",
       "      <td>0</td>\n",
       "    </tr>\n",
       "    <tr>\n",
       "      <th>...</th>\n",
       "      <td>...</td>\n",
       "      <td>...</td>\n",
       "      <td>...</td>\n",
       "      <td>...</td>\n",
       "      <td>...</td>\n",
       "      <td>...</td>\n",
       "      <td>...</td>\n",
       "      <td>...</td>\n",
       "      <td>...</td>\n",
       "      <td>...</td>\n",
       "    </tr>\n",
       "    <tr>\n",
       "      <th>B2TSYX-S-VS1SJK-R-04BBSH-E</th>\n",
       "      <td>0.120505</td>\n",
       "      <td>0.068349</td>\n",
       "      <td>0.000000</td>\n",
       "      <td>0.307280</td>\n",
       "      <td>1.000000</td>\n",
       "      <td>1.000000</td>\n",
       "      <td>0.000000</td>\n",
       "      <td>0.0</td>\n",
       "      <td>0.0</td>\n",
       "      <td>0</td>\n",
       "    </tr>\n",
       "    <tr>\n",
       "      <th>KHYJ27-S-VDP7J2-R-04BBSH-E</th>\n",
       "      <td>0.495329</td>\n",
       "      <td>0.728894</td>\n",
       "      <td>0.382177</td>\n",
       "      <td>0.970322</td>\n",
       "      <td>0.865741</td>\n",
       "      <td>1.000000</td>\n",
       "      <td>0.000000</td>\n",
       "      <td>0.0</td>\n",
       "      <td>0.0</td>\n",
       "      <td>0</td>\n",
       "    </tr>\n",
       "    <tr>\n",
       "      <th>QQ0TFB-S-GB4QMW-R-04BBSH-E</th>\n",
       "      <td>0.384518</td>\n",
       "      <td>0.399007</td>\n",
       "      <td>0.641596</td>\n",
       "      <td>0.307280</td>\n",
       "      <td>0.716920</td>\n",
       "      <td>0.750751</td>\n",
       "      <td>0.000000</td>\n",
       "      <td>0.0</td>\n",
       "      <td>0.0</td>\n",
       "      <td>0</td>\n",
       "    </tr>\n",
       "    <tr>\n",
       "      <th>H0KGJS-S-JMHXSZ-R-04BBSH-E</th>\n",
       "      <td>0.389324</td>\n",
       "      <td>0.401786</td>\n",
       "      <td>0.288125</td>\n",
       "      <td>0.913939</td>\n",
       "      <td>1.000000</td>\n",
       "      <td>1.000000</td>\n",
       "      <td>0.000000</td>\n",
       "      <td>0.0</td>\n",
       "      <td>0.0</td>\n",
       "      <td>0</td>\n",
       "    </tr>\n",
       "    <tr>\n",
       "      <th>Q3MHV7-S-K0SS5D-R-04BBSH-E</th>\n",
       "      <td>0.000000</td>\n",
       "      <td>0.000000</td>\n",
       "      <td>0.098823</td>\n",
       "      <td>0.307280</td>\n",
       "      <td>1.000000</td>\n",
       "      <td>1.000000</td>\n",
       "      <td>0.000000</td>\n",
       "      <td>0.0</td>\n",
       "      <td>1.0</td>\n",
       "      <td>0</td>\n",
       "    </tr>\n",
       "  </tbody>\n",
       "</table>\n",
       "<p>1625 rows × 10 columns</p>\n",
       "</div>"
      ],
      "text/plain": [
       "                                 roe       roa  oper_mgn  pay_out_ratio  \\\n",
       "stock_id                                                                  \n",
       "T1N9J9-S-RPMZQ3-R-04BBSH-E  0.736257  0.528786  0.895426       0.751899   \n",
       "DTMZTR-S-NMTXM7-R-04BBSH-E  0.000000  0.086202  0.118942       0.307280   \n",
       "R5VL9T-S-KJZM9C-R-04BBSH-E  0.181851  0.277281  0.251268       0.307280   \n",
       "G18BJK-S-L2LQRT-R-04BBSH-E  0.994465  0.969054  0.910720       0.922097   \n",
       "SVR7X0-S-F0M3M6-R-04BBSH-E  0.374042  0.383676  0.626002       0.307280   \n",
       "...                              ...       ...       ...            ...   \n",
       "B2TSYX-S-VS1SJK-R-04BBSH-E  0.120505  0.068349  0.000000       0.307280   \n",
       "KHYJ27-S-VDP7J2-R-04BBSH-E  0.495329  0.728894  0.382177       0.970322   \n",
       "QQ0TFB-S-GB4QMW-R-04BBSH-E  0.384518  0.399007  0.641596       0.307280   \n",
       "H0KGJS-S-JMHXSZ-R-04BBSH-E  0.389324  0.401786  0.288125       0.913939   \n",
       "Q3MHV7-S-K0SS5D-R-04BBSH-E  0.000000  0.000000  0.098823       0.307280   \n",
       "\n",
       "                                  pe      pbps   div_yld  last_holding  \\\n",
       "stock_id                                                                 \n",
       "T1N9J9-S-RPMZQ3-R-04BBSH-E  0.270954  0.389738  0.697859           0.0   \n",
       "DTMZTR-S-NMTXM7-R-04BBSH-E  1.000000  1.000000  0.000000           0.0   \n",
       "R5VL9T-S-KJZM9C-R-04BBSH-E  1.000000  1.000000  0.222079           0.0   \n",
       "G18BJK-S-L2LQRT-R-04BBSH-E  0.157442  1.000000  0.974442           0.0   \n",
       "SVR7X0-S-F0M3M6-R-04BBSH-E  0.757425  0.779166  0.222079           0.0   \n",
       "...                              ...       ...       ...           ...   \n",
       "B2TSYX-S-VS1SJK-R-04BBSH-E  1.000000  1.000000  0.000000           0.0   \n",
       "KHYJ27-S-VDP7J2-R-04BBSH-E  0.865741  1.000000  0.000000           0.0   \n",
       "QQ0TFB-S-GB4QMW-R-04BBSH-E  0.716920  0.750751  0.000000           0.0   \n",
       "H0KGJS-S-JMHXSZ-R-04BBSH-E  1.000000  1.000000  0.000000           0.0   \n",
       "Q3MHV7-S-K0SS5D-R-04BBSH-E  1.000000  1.000000  0.000000           0.0   \n",
       "\n",
       "                            new_changes  is_holding  \n",
       "stock_id                                             \n",
       "T1N9J9-S-RPMZQ3-R-04BBSH-E          0.0           0  \n",
       "DTMZTR-S-NMTXM7-R-04BBSH-E          0.0           0  \n",
       "R5VL9T-S-KJZM9C-R-04BBSH-E          0.0           0  \n",
       "G18BJK-S-L2LQRT-R-04BBSH-E          0.0           0  \n",
       "SVR7X0-S-F0M3M6-R-04BBSH-E          0.0           0  \n",
       "...                                 ...         ...  \n",
       "B2TSYX-S-VS1SJK-R-04BBSH-E          0.0           0  \n",
       "KHYJ27-S-VDP7J2-R-04BBSH-E          0.0           0  \n",
       "QQ0TFB-S-GB4QMW-R-04BBSH-E          0.0           0  \n",
       "H0KGJS-S-JMHXSZ-R-04BBSH-E          0.0           0  \n",
       "Q3MHV7-S-K0SS5D-R-04BBSH-E          1.0           0  \n",
       "\n",
       "[1625 rows x 10 columns]"
      ]
     },
     "execution_count": 3,
     "metadata": {},
     "output_type": "execute_result"
    }
   ],
   "source": [
    "df = df.loc[df['report_date']=='2020-02-29']\n",
    "#df = df.loc[df['report_date']=='2020-01-31']\n",
    "df = df.loc[df['fund_id']=='04BBSH-E']\n",
    "df = df.iloc[:,4:]\n",
    "df.set_index(['stock_id'],inplace=True)\n",
    "df = df.fillna(df.median())\n",
    "target = df.pop('is_holding')\n",
    "df.insert(9,'is_holding',target) \n",
    "df"
   ]
  },
  {
   "cell_type": "code",
   "execution_count": 4,
   "metadata": {},
   "outputs": [],
   "source": [
    "### save the column and index\n",
    "columns = df.columns\n",
    "index = df.index.values"
   ]
  },
  {
   "cell_type": "code",
   "execution_count": 5,
   "metadata": {},
   "outputs": [],
   "source": [
    "from sklearn.neighbors import NearestNeighbors\n",
    "knn = NearestNeighbors(metric='cosine', algorithm='brute')"
   ]
  },
  {
   "cell_type": "code",
   "execution_count": 6,
   "metadata": {},
   "outputs": [],
   "source": [
    "### The following function is a recommendation system that the user can import the data, choose one specific bond, and select\n",
    "### some features, then the system will return k bonds most similar to the chosen bond based on the selected features.\n",
    "\n",
    "def stock_recommend(dataframe,stock,k):\n",
    "    \n",
    "    # import the dataframe and select the features\n",
    "    # df = dataframe[self_selected_features_list]\n",
    "    \n",
    "    # create a dictionary for bond names\n",
    "    stocks = df.index.values\n",
    "    d = {}\n",
    "    for i in range(len(stocks)):\n",
    "        d[stocks[i]] = i\n",
    "    \n",
    "    # find the indices for the choosing bond\n",
    "    idx = d[stock]\n",
    "    \n",
    "    # create a list of most similar k bonds\n",
    "    knn.fit(df)\n",
    "    distances, indices = knn.kneighbors(df.values, n_neighbors = k+1)\n",
    "    sim_stocks_idx = indices[idx].tolist()\n",
    "    \n",
    "    # remove bond_A from the list sim_bonds\n",
    "    sim_stocks_idx.remove(idx)\n",
    "    sim_stocks = df.index[sim_stocks_idx].to_list()\n",
    "    \n",
    "    print('Most similar stock to stock: {} is: {}'.format(stock, sim_stocks))"
   ]
  },
  {
   "cell_type": "code",
   "execution_count": 7,
   "metadata": {
    "scrolled": true
   },
   "outputs": [
    {
     "name": "stdout",
     "output_type": "stream",
     "text": [
      "Most similar stock to stock: T1N9J9-S-RPMZQ3-R-04BBSH-E is: ['WW3RWY-S-Q1LLR2-R-04BBSH-E']\n"
     ]
    }
   ],
   "source": [
    "stock_recommend(df,'T1N9J9-S-RPMZQ3-R-04BBSH-E', 1)"
   ]
  },
  {
   "cell_type": "code",
   "execution_count": 8,
   "metadata": {},
   "outputs": [
    {
     "name": "stdout",
     "output_type": "stream",
     "text": [
      "Most similar stock to stock: T1N9J9-S-RPMZQ3-R-04BBSH-E is: ['WW3RWY-S-Q1LLR2-R-04BBSH-E', 'BW90JZ-S-SC41Y3-R-04BBSH-E', 'FBBGRD-S-Q8DBNV-R-04BBSH-E']\n"
     ]
    }
   ],
   "source": [
    "stock_recommend(df,'T1N9J9-S-RPMZQ3-R-04BBSH-E', 3)"
   ]
  },
  {
   "cell_type": "code",
   "execution_count": 8,
   "metadata": {
    "scrolled": true
   },
   "outputs": [
    {
     "name": "stdout",
     "output_type": "stream",
     "text": [
      "Most similar stock to stock: WW3RWY-S-Q1LLR2-R-04BBSH-E is: ['T1N9J9-S-RPMZQ3-R-04BBSH-E']\n"
     ]
    }
   ],
   "source": [
    "stock_recommend(df,'WW3RWY-S-Q1LLR2-R-04BBSH-E', 1)"
   ]
  },
  {
   "cell_type": "code",
   "execution_count": 9,
   "metadata": {},
   "outputs": [
    {
     "name": "stdout",
     "output_type": "stream",
     "text": [
      "Most similar stock to stock: T1N9J9-S-RPMZQ3-R-04BBSH-E is: ['WW3RWY-S-Q1LLR2-R-04BBSH-E', 'BW90JZ-S-SC41Y3-R-04BBSH-E']\n"
     ]
    }
   ],
   "source": [
    "stock_recommend(df,'T1N9J9-S-RPMZQ3-R-04BBSH-E', 2)"
   ]
  },
  {
   "cell_type": "code",
   "execution_count": null,
   "metadata": {},
   "outputs": [],
   "source": []
  }
 ],
 "metadata": {
  "kernelspec": {
   "display_name": "Python 3",
   "language": "python",
   "name": "python3"
  },
  "language_info": {
   "codemirror_mode": {
    "name": "ipython",
    "version": 3
   },
   "file_extension": ".py",
   "mimetype": "text/x-python",
   "name": "python",
   "nbconvert_exporter": "python",
   "pygments_lexer": "ipython3",
   "version": "3.8.3"
  }
 },
 "nbformat": 4,
 "nbformat_minor": 4
}
